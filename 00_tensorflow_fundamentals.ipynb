{
 "cells": [
  {
   "cell_type": "markdown",
   "metadata": {},
   "source": [
    "# Belajar fundamental tensor menggunakan TensorFlow"
   ]
  },
  {
   "cell_type": "code",
   "execution_count": 1,
   "metadata": {
    "ExecuteTime": {
     "end_time": "2023-10-13T04:23:50.596431374Z",
     "start_time": "2023-10-13T04:23:50.570252730Z"
    }
   },
   "outputs": [
    {
     "name": "stdout",
     "output_type": "stream",
     "text": [
      "Last Running Code : 2023-10-13\n"
     ]
    }
   ],
   "source": [
    "import datetime\n",
    "print(f\"Last Running Code : {datetime.date.today()}\")"
   ]
  },
  {
   "cell_type": "code",
   "execution_count": 2,
   "metadata": {
    "ExecuteTime": {
     "end_time": "2023-10-13T04:24:06.583481428Z",
     "start_time": "2023-10-13T04:23:54.192599018Z"
    }
   },
   "outputs": [
    {
     "name": "stderr",
     "output_type": "stream",
     "text": [
      "2023-10-13 11:23:55.161043: I tensorflow/tsl/cuda/cudart_stub.cc:28] Could not find cuda drivers on your machine, GPU will not be used.\n",
      "2023-10-13 11:23:55.771576: E tensorflow/compiler/xla/stream_executor/cuda/cuda_dnn.cc:9342] Unable to register cuDNN factory: Attempting to register factory for plugin cuDNN when one has already been registered\n",
      "2023-10-13 11:23:55.771623: E tensorflow/compiler/xla/stream_executor/cuda/cuda_fft.cc:609] Unable to register cuFFT factory: Attempting to register factory for plugin cuFFT when one has already been registered\n",
      "2023-10-13 11:23:55.774850: E tensorflow/compiler/xla/stream_executor/cuda/cuda_blas.cc:1518] Unable to register cuBLAS factory: Attempting to register factory for plugin cuBLAS when one has already been registered\n",
      "2023-10-13 11:23:56.096208: I tensorflow/tsl/cuda/cudart_stub.cc:28] Could not find cuda drivers on your machine, GPU will not be used.\n",
      "2023-10-13 11:23:56.097955: I tensorflow/core/platform/cpu_feature_guard.cc:182] This TensorFlow binary is optimized to use available CPU instructions in performance-critical operations.\n",
      "To enable the following instructions: AVX2 FMA, in other operations, rebuild TensorFlow with the appropriate compiler flags.\n",
      "2023-10-13 11:24:04.098459: W tensorflow/compiler/tf2tensorrt/utils/py_utils.cc:38] TF-TRT Warning: Could not find TensorRT\n"
     ]
    },
    {
     "name": "stdout",
     "output_type": "stream",
     "text": [
      "Tensorflow version : 2.14.0\n"
     ]
    }
   ],
   "source": [
    "import tensorflow as tf\n",
    "import numpy as np\n",
    "import matplotlib.pyplot as plt\n",
    "print(f\"Tensorflow version : {tf.__version__}\")"
   ]
  },
  {
   "cell_type": "markdown",
   "metadata": {},
   "source": [
    "# 1. Creating Tensorflow with tf.constant()"
   ]
  },
  {
   "cell_type": "markdown",
   "metadata": {},
   "source": [
    "## 1.1. Creating Scalar (0 Dimensi)"
   ]
  },
  {
   "cell_type": "code",
   "execution_count": 5,
   "metadata": {
    "ExecuteTime": {
     "end_time": "2023-10-13T04:00:08.529362932Z",
     "start_time": "2023-10-13T04:00:08.400477829Z"
    }
   },
   "outputs": [
    {
     "data": {
      "text/plain": "<tf.Tensor: shape=(), dtype=int32, numpy=7>"
     },
     "execution_count": 5,
     "metadata": {},
     "output_type": "execute_result"
    }
   ],
   "source": [
    "#  A scalar is known as a rank 0 tensor. Because it has no dimensions (it's just a number).\n",
    "scalar = tf.constant(7)\n",
    "scalar"
   ]
  },
  {
   "cell_type": "code",
   "execution_count": 4,
   "metadata": {
    "ExecuteTime": {
     "end_time": "2023-10-13T03:07:14.904016337Z",
     "start_time": "2023-10-13T03:07:14.844734551Z"
    }
   },
   "outputs": [
    {
     "data": {
      "text/plain": "0"
     },
     "execution_count": 4,
     "metadata": {},
     "output_type": "execute_result"
    }
   ],
   "source": [
    "# check dimensi\n",
    "scalar.ndim"
   ]
  },
  {
   "cell_type": "markdown",
   "metadata": {},
   "source": [
    "## 1.2. Creating Vector (1 Dimensi)"
   ]
  },
  {
   "cell_type": "code",
   "execution_count": 5,
   "metadata": {
    "ExecuteTime": {
     "end_time": "2023-10-13T03:07:14.904978828Z",
     "start_time": "2023-10-13T03:07:14.852117719Z"
    }
   },
   "outputs": [
    {
     "data": {
      "text/plain": "<tf.Tensor: shape=(2,), dtype=int32, numpy=array([10, 10], dtype=int32)>"
     },
     "execution_count": 5,
     "metadata": {},
     "output_type": "execute_result"
    }
   ],
   "source": [
    "vector = tf.constant([10,10])\n",
    "vector"
   ]
  },
  {
   "cell_type": "code",
   "execution_count": 6,
   "metadata": {
    "ExecuteTime": {
     "end_time": "2023-10-13T03:07:14.941843017Z",
     "start_time": "2023-10-13T03:07:14.861540399Z"
    }
   },
   "outputs": [
    {
     "data": {
      "text/plain": "1"
     },
     "execution_count": 6,
     "metadata": {},
     "output_type": "execute_result"
    }
   ],
   "source": [
    "# Check dimensi vector\n",
    "vector.ndim"
   ]
  },
  {
   "cell_type": "markdown",
   "metadata": {},
   "source": [
    "## 1.3. Creating Matrix ( >1 Dimensi)"
   ]
  },
  {
   "cell_type": "code",
   "execution_count": 7,
   "metadata": {
    "ExecuteTime": {
     "end_time": "2023-10-13T03:07:14.942335431Z",
     "start_time": "2023-10-13T03:07:14.883628260Z"
    }
   },
   "outputs": [
    {
     "data": {
      "text/plain": "<tf.Tensor: shape=(2, 2), dtype=int32, numpy=\narray([[1, 2],\n       [3, 4]], dtype=int32)>"
     },
     "execution_count": 7,
     "metadata": {},
     "output_type": "execute_result"
    }
   ],
   "source": [
    "matrix = tf.constant([[1,2],[3,4]])\n",
    "matrix"
   ]
  },
  {
   "cell_type": "code",
   "execution_count": 8,
   "metadata": {
    "ExecuteTime": {
     "end_time": "2023-10-13T03:07:14.943159921Z",
     "start_time": "2023-10-13T03:07:14.893155587Z"
    }
   },
   "outputs": [
    {
     "data": {
      "text/plain": "2"
     },
     "execution_count": 8,
     "metadata": {},
     "output_type": "execute_result"
    }
   ],
   "source": [
    "# Check dimensi matrix\n",
    "matrix.ndim"
   ]
  },
  {
   "cell_type": "markdown",
   "metadata": {},
   "source": [
    "### 1.3.1. Create Matrix With specific data type using dtype parameter (default is int32 or float32)"
   ]
  },
  {
   "cell_type": "code",
   "execution_count": 9,
   "metadata": {
    "ExecuteTime": {
     "end_time": "2023-10-13T03:07:15.060628696Z",
     "start_time": "2023-10-13T03:07:14.907226299Z"
    }
   },
   "outputs": [
    {
     "data": {
      "text/plain": "<tf.Tensor: shape=(2, 2), dtype=float32, numpy=\narray([[23., 43.],\n       [22., 56.]], dtype=float32)>"
     },
     "execution_count": 9,
     "metadata": {},
     "output_type": "execute_result"
    }
   ],
   "source": [
    "matrix_dtype = tf.constant(\n",
    "    [[23,43],[22,56]], \n",
    "    dtype=tf.float32 #spesifik type data\n",
    "    )\n",
    "\n",
    "matrix_dtype"
   ]
  },
  {
   "cell_type": "code",
   "execution_count": 10,
   "metadata": {
    "ExecuteTime": {
     "end_time": "2023-10-13T03:07:15.166528441Z",
     "start_time": "2023-10-13T03:07:14.949933105Z"
    }
   },
   "outputs": [
    {
     "data": {
      "text/plain": "2"
     },
     "execution_count": 10,
     "metadata": {},
     "output_type": "execute_result"
    }
   ],
   "source": [
    "matrix_dtype.ndim"
   ]
  },
  {
   "cell_type": "markdown",
   "metadata": {},
   "source": [
    "## 1.4. Creating Tensor (>2 Dimensi)"
   ]
  },
  {
   "cell_type": "code",
   "execution_count": 11,
   "metadata": {
    "ExecuteTime": {
     "end_time": "2023-10-13T03:07:15.167674779Z",
     "start_time": "2023-10-13T03:07:14.950313429Z"
    }
   },
   "outputs": [
    {
     "data": {
      "text/plain": "<tf.Tensor: shape=(2, 3, 4), dtype=int32, numpy=\narray([[[  1,   2,   3,   4],\n        [ 34,  54,  23,  77],\n        [ 21,  34,  65,  87]],\n\n       [[ 34,  45,  56, 234],\n        [123,  43,  56,  23],\n        [ 56,  34,  54,  56]]], dtype=int32)>"
     },
     "execution_count": 11,
     "metadata": {},
     "output_type": "execute_result"
    }
   ],
   "source": [
    "tensor = tf.constant([\n",
    "    [[1,2,3,4],[34,54,23,77],[21,34,65,87]],\n",
    "    [[34,45,56,234],[123,43,56,23],[56,34,54,56]]\n",
    "    ])\n",
    "\n",
    "tensor"
   ]
  },
  {
   "cell_type": "code",
   "execution_count": 12,
   "metadata": {
    "ExecuteTime": {
     "end_time": "2023-10-13T03:07:15.168640328Z",
     "start_time": "2023-10-13T03:07:14.950574660Z"
    }
   },
   "outputs": [
    {
     "data": {
      "text/plain": "3"
     },
     "execution_count": 12,
     "metadata": {},
     "output_type": "execute_result"
    }
   ],
   "source": [
    "tensor.ndim"
   ]
  },
  {
   "cell_type": "markdown",
   "metadata": {},
   "source": [
    "# 2. Creating tensor with tf.Variable()\n",
    "berbeda dengan tf.constant, tf.Variable bersifat mutable (bisa diubah nilainya)"
   ]
  },
  {
   "cell_type": "code",
   "execution_count": 13,
   "metadata": {
    "ExecuteTime": {
     "end_time": "2023-10-13T03:07:15.169482569Z",
     "start_time": "2023-10-13T03:07:14.950822559Z"
    }
   },
   "outputs": [
    {
     "data": {
      "text/plain": "<tf.Variable 'Variable:0' shape=(1,) dtype=int32, numpy=array([0], dtype=int32)>"
     },
     "execution_count": 13,
     "metadata": {},
     "output_type": "execute_result"
    }
   ],
   "source": [
    "scalar = tf.Variable([0]) # Scalar\n",
    "scalar"
   ]
  },
  {
   "cell_type": "code",
   "execution_count": 14,
   "metadata": {
    "ExecuteTime": {
     "end_time": "2023-10-13T03:07:15.190375316Z",
     "start_time": "2023-10-13T03:07:14.993197826Z"
    }
   },
   "outputs": [
    {
     "data": {
      "text/plain": "<tf.Variable 'Variable:0' shape=(2,) dtype=int32, numpy=array([2, 4], dtype=int32)>"
     },
     "execution_count": 14,
     "metadata": {},
     "output_type": "execute_result"
    }
   ],
   "source": [
    "vector = tf.Variable([2,4]) # Vector\n",
    "vector"
   ]
  },
  {
   "cell_type": "markdown",
   "metadata": {},
   "source": [
    "**Akan terjadi error jika tensor constant di ubah**"
   ]
  },
  {
   "cell_type": "code",
   "execution_count": 15,
   "metadata": {
    "ExecuteTime": {
     "end_time": "2023-10-13T03:07:15.550289508Z",
     "start_time": "2023-10-13T03:07:14.993598009Z"
    }
   },
   "outputs": [
    {
     "ename": "TypeError",
     "evalue": "'tensorflow.python.framework.ops.EagerTensor' object does not support item assignment",
     "output_type": "error",
     "traceback": [
      "\u001B[0;31m---------------------------------------------------------------------------\u001B[0m",
      "\u001B[0;31mTypeError\u001B[0m                                 Traceback (most recent call last)",
      "Cell \u001B[0;32mIn[15], line 2\u001B[0m\n\u001B[1;32m      1\u001B[0m constant \u001B[38;5;241m=\u001B[39m tf\u001B[38;5;241m.\u001B[39mconstant([\u001B[38;5;241m2\u001B[39m,\u001B[38;5;241m3\u001B[39m])\n\u001B[0;32m----> 2\u001B[0m \u001B[43mconstant\u001B[49m\u001B[43m[\u001B[49m\u001B[38;5;241;43m0\u001B[39;49m\u001B[43m]\u001B[49m \u001B[38;5;241m=\u001B[39m \u001B[38;5;241m3\u001B[39m\n",
      "\u001B[0;31mTypeError\u001B[0m: 'tensorflow.python.framework.ops.EagerTensor' object does not support item assignment"
     ]
    }
   ],
   "source": [
    "constant = tf.constant([2,3])\n",
    "constant[0] = 3"
   ]
  },
  {
   "cell_type": "markdown",
   "metadata": {},
   "source": [
    "**tetapi dengan tensor varible tidak. Namun perlu di ingat untuk mengganti nilai pada tensor harus menggunakan method assign()**"
   ]
  },
  {
   "cell_type": "code",
   "execution_count": null,
   "metadata": {
    "ExecuteTime": {
     "start_time": "2023-10-13T03:07:15.597532270Z"
    }
   },
   "outputs": [],
   "source": [
    "varible = tf.Variable([2,3])\n",
    "# Mengubah nilai seperti dibawah ini akan menghasillkan error\n",
    "varible[0] = 3\n",
    "varible"
   ]
  },
  {
   "cell_type": "code",
   "execution_count": null,
   "metadata": {
    "ExecuteTime": {
     "start_time": "2023-10-13T03:07:15.597868374Z"
    }
   },
   "outputs": [],
   "source": [
    "# Berikut cara yang benar menggunakan assignn()\n",
    "varible = tf.Variable([2,3])\n",
    "varible[0].assign(3)\n",
    "varible"
   ]
  },
  {
   "cell_type": "markdown",
   "metadata": {},
   "source": [
    "**tensor constant tidak diubah wwalaupun menggunakan method assign()**"
   ]
  },
  {
   "cell_type": "code",
   "execution_count": null,
   "metadata": {
    "ExecuteTime": {
     "end_time": "2023-10-13T03:07:15.653742610Z",
     "start_time": "2023-10-13T03:07:15.598168388Z"
    }
   },
   "outputs": [],
   "source": [
    "constant = tf.constant([2,3])\n",
    "constant[0].assign(3)\n",
    "constant"
   ]
  },
  {
   "cell_type": "markdown",
   "metadata": {},
   "source": [
    "# 3. Creating Random Tensor\n",
    "Kenapa perlu membuat random tensor? karena pada awal pembelajaran neural network, selalu dimulai dari pola acak"
   ]
  },
  {
   "cell_type": "markdown",
   "metadata": {},
   "source": [
    "## Using tf.random.Generator\n",
    "pada proses ini sebenarnya yang digunakan adalah pseudorandom"
   ]
  },
  {
   "cell_type": "code",
   "execution_count": null,
   "metadata": {
    "ExecuteTime": {
     "start_time": "2023-10-13T03:07:15.598373245Z"
    }
   },
   "outputs": [],
   "source": [
    "random_1 = tf.random.Generator.from_seed(42)\n",
    "random_1 = random_1.normal(shape=(3,2))\n",
    "random_2 = tf.random.Generator.from_seed(42)\n",
    "random_2 = random_2.normal(shape=(3,2))\n",
    "random_1, random_2, random_1 == random_2"
   ]
  },
  {
   "cell_type": "code",
   "execution_count": null,
   "metadata": {
    "ExecuteTime": {
     "start_time": "2023-10-13T03:07:15.598590932Z"
    }
   },
   "outputs": [],
   "source": [
    "# Pada kodingan ini, nilainya akan selalu berubah dan tidak akan sama walaupun sudah di beri nilai seed\n",
    "# Hal ini terjadi karena seed disini hanya bersifat operation seed dan bukan global seed karena itu setiap operasi akan menghasilkan nilai berbeda\n",
    "not_suffled = tf.constant([[10,7],[3,4],[2,5]])\n",
    "tf.random.shuffle(not_suffled, seed=42)"
   ]
  },
  {
   "cell_type": "markdown",
   "metadata": {},
   "source": [
    "**Rule #4 tf.random.set_seed() \"4. If both the global and the operation seed are set: Both seeds are used in conjunction to determine the random sequence.\"** \n",
    "*Sebab, \"Operasi yang mengandalkan benih acak sebenarnya berasal dari dua benih: benih global dan benih tingkat operasi. Ini yang menentukan benih global.\"*"
   ]
  },
  {
   "cell_type": "code",
   "execution_count": null,
   "metadata": {
    "ExecuteTime": {
     "start_time": "2023-10-13T03:07:15.598829287Z"
    }
   },
   "outputs": [],
   "source": [
    "# DIsini nilai global seed diatur sehingga nilainya pseudorandom akan selalu sama\n",
    "# untuk mengatur global seed\n",
    "tf.random.set_seed(42)\n",
    "\n",
    "#untuk mengatur seed pada area operasi saja\n",
    "tf.random.shuffle(not_suffled, seed=42)"
   ]
  },
  {
   "cell_type": "markdown",
   "metadata": {},
   "source": [
    "# 4. Cara lain membuat Tensors"
   ]
  },
  {
   "cell_type": "markdown",
   "metadata": {},
   "source": [
    "## 4.1. Tensor Ones tf.ones()"
   ]
  },
  {
   "cell_type": "code",
   "execution_count": null,
   "metadata": {
    "ExecuteTime": {
     "start_time": "2023-10-13T03:07:15.599144314Z"
    }
   },
   "outputs": [],
   "source": [
    "ones = tf.ones(shape=(3,4))\n",
    "ones"
   ]
  },
  {
   "cell_type": "markdown",
   "metadata": {},
   "source": [
    "## 4.2. Tensor Zeros tf.zeros()"
   ]
  },
  {
   "cell_type": "code",
   "execution_count": null,
   "metadata": {
    "ExecuteTime": {
     "start_time": "2023-10-13T03:07:15.599412056Z"
    }
   },
   "outputs": [],
   "source": [
    "zeros = tf.zeros([3,4])\n",
    "zeros"
   ]
  },
  {
   "cell_type": "markdown",
   "metadata": {},
   "source": [
    "# 5. Mengubah Numpy Array menjadi Tensor"
   ]
  },
  {
   "cell_type": "code",
   "execution_count": null,
   "metadata": {
    "ExecuteTime": {
     "start_time": "2023-10-13T03:07:15.641565806Z"
    }
   },
   "outputs": [],
   "source": [
    "import numpy as np\n",
    "np_array = np.arange(1,25, dtype=np.int32)\n",
    "tensor_from_np = tf.constant(np_array, shape=[2,3,4])\n",
    "\n",
    "tensor_from_np"
   ]
  },
  {
   "cell_type": "markdown",
   "metadata": {},
   "source": [
    "# 6. Memperoleh Informasi Dari Tensor"
   ]
  },
  {
   "cell_type": "code",
   "execution_count": null,
   "metadata": {
    "ExecuteTime": {
     "start_time": "2023-10-13T03:07:15.641864366Z"
    }
   },
   "outputs": [],
   "source": [
    "#membuat array 4 dimensi\n",
    "d4_tensor = tf.zeros([2,3,4,5])\n",
    "d4_tensor"
   ]
  },
  {
   "cell_type": "markdown",
   "metadata": {},
   "source": [
    "## 6.1. Mengambil Informasi menggunakan .shape .ndim tf.size()"
   ]
  },
  {
   "cell_type": "code",
   "execution_count": null,
   "metadata": {
    "ExecuteTime": {
     "start_time": "2023-10-13T03:07:15.642091831Z"
    }
   },
   "outputs": [],
   "source": [
    "d4_tensor.shape, d4_tensor.ndim, tf.size(d4_tensor)"
   ]
  },
  {
   "cell_type": "markdown",
   "metadata": {},
   "source": [
    "## 6.2. Get various attributes of tensor"
   ]
  },
  {
   "cell_type": "code",
   "execution_count": null,
   "metadata": {
    "ExecuteTime": {
     "start_time": "2023-10-13T03:07:15.642290773Z"
    }
   },
   "outputs": [],
   "source": [
    "print(\"Data tipe dari tensor : \", d4_tensor.dtype)\n",
    "print(\"Dimensi dari tensor : \",d4_tensor.ndim)\n",
    "print(\"Shape dari Tensor : \",d4_tensor.shape)\n",
    "print(\"Axis pertama dari tensor (2,3,4,5 maka axis pertamanya adalah 2):\",d4_tensor.shape[0])\n",
    "print(\"Axis terakhir dari tensor : \",d4_tensor.shape[-1])\n",
    "print(\"Total element dari Tensor : \",tf.size(d4_tensor).numpy())"
   ]
  },
  {
   "cell_type": "code",
   "execution_count": null,
   "metadata": {
    "ExecuteTime": {
     "start_time": "2023-10-13T03:07:15.642484573Z"
    }
   },
   "outputs": [],
   "source": [
    "# get the first 2 items of each dimension\n",
    "d4_tensor[:2,:2,:2,:2]"
   ]
  },
  {
   "cell_type": "code",
   "execution_count": null,
   "metadata": {
    "ExecuteTime": {
     "start_time": "2023-10-13T03:07:15.642773545Z"
    }
   },
   "outputs": [],
   "source": [
    "# mengambil selulruh kolom bari pertama dari baris 1 dimensi ke 3 dan baris 1 dari dimensi ke 4\n",
    "d4_tensor[:1,:1,:1,:]"
   ]
  },
  {
   "cell_type": "code",
   "execution_count": null,
   "metadata": {
    "ExecuteTime": {
     "start_time": "2023-10-13T03:07:15.645031458Z"
    }
   },
   "outputs": [],
   "source": [
    "d2_tensor = tf.constant([[1,2],[3,4]])\n",
    "d2_tensor[:,1] # mengambil kolom 1 dari semua baris"
   ]
  },
  {
   "cell_type": "markdown",
   "metadata": {},
   "source": [
    "## 6.3. Menambahkan dimensi"
   ]
  },
  {
   "cell_type": "code",
   "execution_count": null,
   "metadata": {
    "ExecuteTime": {
     "start_time": "2023-10-13T03:07:15.648394886Z"
    }
   },
   "outputs": [],
   "source": [
    "# menambahkan dimensi menggunakan tf.newaxis\n",
    "d3_tensor = d2_tensor[..., tf.newaxis]\n",
    "d2_tensor, d3_tensor"
   ]
  },
  {
   "cell_type": "code",
   "execution_count": null,
   "metadata": {
    "ExecuteTime": {
     "start_time": "2023-10-13T03:07:15.651878656Z"
    }
   },
   "outputs": [],
   "source": [
    "# menambahkan dimensi menggunakan tf.expand_dims\n",
    "tf.expand_dims(d2_tensor, axis=-1) #-1 artinya axis terakhir"
   ]
  },
  {
   "cell_type": "markdown",
   "metadata": {},
   "source": [
    "# 7. Memanipulasi Tensor"
   ]
  },
  {
   "cell_type": "markdown",
   "metadata": {},
   "source": [
    "## 7.1. Operasi dasar"
   ]
  },
  {
   "cell_type": "code",
   "execution_count": null,
   "metadata": {
    "ExecuteTime": {
     "end_time": "2023-10-13T03:07:15.681889327Z",
     "start_time": "2023-10-13T03:07:15.655822776Z"
    }
   },
   "outputs": [],
   "source": [
    "d2_tensor = tf.Variable([[1,2],[3,4]])\n",
    "d2_tensor + 10, d2_tensor*10, d2_tensor/2, d2_tensor**2"
   ]
  },
  {
   "cell_type": "code",
   "execution_count": null,
   "metadata": {
    "ExecuteTime": {
     "start_time": "2023-10-13T03:07:15.660322999Z"
    }
   },
   "outputs": [],
   "source": [
    "#Perkalian Matrix dengan Konstanta\n",
    "tf.multiply(d2_tensor, 10)"
   ]
  },
  {
   "cell_type": "code",
   "execution_count": null,
   "metadata": {
    "ExecuteTime": {
     "start_time": "2023-10-13T03:07:15.709306985Z"
    }
   },
   "outputs": [],
   "source": [
    "# Perkalian Matrix dengan matrix\n",
    "tf.matmul(d2_tensor, d2_tensor)"
   ]
  },
  {
   "cell_type": "markdown",
   "metadata": {},
   "source": [
    "## 7.2. Manipulasi ukuran tensor dengan tf.reshape() dan tf.transpose()"
   ]
  },
  {
   "cell_type": "code",
   "execution_count": null,
   "metadata": {
    "ExecuteTime": {
     "start_time": "2023-10-13T03:07:15.709580194Z"
    }
   },
   "outputs": [],
   "source": [
    "x = tf.constant([[1,2,3],[2,3,4]]) #tensor 2x3\n",
    "y = tf.constant([[4,5,6],[6,7,8]]) #tensor 2x3\n",
    "x, y"
   ]
  },
  {
   "cell_type": "code",
   "execution_count": null,
   "metadata": {
    "ExecuteTime": {
     "start_time": "2023-10-13T03:07:15.709741630Z"
    }
   },
   "outputs": [],
   "source": [
    "# tensor 2x3 tidak bisa dikali dengan tensor 2x3\n",
    "# 2x3 harus dikali 3x2 maka di reshape\n",
    "x_reshape = tf.reshape(x, (3,2))\n",
    "x_reshape"
   ]
  },
  {
   "cell_type": "code",
   "execution_count": null,
   "metadata": {
    "ExecuteTime": {
     "start_time": "2023-10-13T03:07:15.709872298Z"
    }
   },
   "outputs": [],
   "source": [
    "# Maka sekarang dapat di kali\n",
    "x_reshape @ y"
   ]
  },
  {
   "cell_type": "markdown",
   "metadata": {},
   "source": [
    "## 7.3. Operasi Dot Matrix"
   ]
  },
  {
   "cell_type": "code",
   "execution_count": null,
   "metadata": {
    "ExecuteTime": {
     "start_time": "2023-10-13T03:07:15.710015861Z"
    }
   },
   "outputs": [],
   "source": [
    "a = tf.Variable([\n",
    "    [23,4,5],\n",
    "    [23,54,23]\n",
    "    ])\n",
    "\n",
    "b = tf.Variable([\n",
    "    [43,23,54],\n",
    "    [4,7,8]\n",
    "])\n",
    "\n",
    "# menggunakan dot (.) dan transpose\n",
    "c = tf.tensordot(a, tf.transpose(b), axes=1)\n",
    "\n",
    "# Menggunakan matmul dan reshape\n",
    "d = tf.matmul(tf.reshape(a, shape=(3,2)), b)\n",
    "\n",
    "#nb : Transpose dan reshape tidak membentuk matrix yang sama saat mengubah matrix yang sama\n",
    "c, d"
   ]
  },
  {
   "cell_type": "markdown",
   "metadata": {},
   "source": [
    "## 7.4. Mengganti tipe data Tensor menggunakan tf.cast()"
   ]
  },
  {
   "cell_type": "code",
   "execution_count": null,
   "metadata": {
    "ExecuteTime": {
     "start_time": "2023-10-13T03:07:15.710155145Z"
    }
   },
   "outputs": [],
   "source": [
    "np_a = np.arange(1,25)\n",
    "mat_a = tf.constant(np_a, shape=(6,4))\n",
    "mat_a, mat_a.dtype"
   ]
  },
  {
   "cell_type": "code",
   "execution_count": null,
   "metadata": {
    "ExecuteTime": {
     "start_time": "2023-10-13T03:07:15.710332682Z"
    }
   },
   "outputs": [],
   "source": [
    "mat_a = tf.cast(mat_a, dtype=tf.float32)\n",
    "mat_a, mat_a.dtype"
   ]
  },
  {
   "cell_type": "markdown",
   "metadata": {},
   "source": [
    "## 7.5. Mengambil nilai absolute menggunakan tf.abs()"
   ]
  },
  {
   "cell_type": "code",
   "execution_count": null,
   "metadata": {
    "ExecuteTime": {
     "start_time": "2023-10-13T03:07:15.710465173Z"
    }
   },
   "outputs": [],
   "source": [
    "b_mat = tf.constant(np.arange(-17,-1, dtype=np.int32), shape=(4,4))\n",
    "b_mat"
   ]
  },
  {
   "cell_type": "code",
   "execution_count": null,
   "metadata": {
    "ExecuteTime": {
     "start_time": "2023-10-13T03:07:15.710598747Z"
    }
   },
   "outputs": [],
   "source": [
    "# Mengambil nilai absolute\n",
    "b_mat_abs = tf.abs(b_mat)\n",
    "b_mat_abs"
   ]
  },
  {
   "cell_type": "markdown",
   "metadata": {},
   "source": [
    "## 7.6. Mencari nilai min max mean sum (agregari) pada tensor\n",
    "menggunakan tf.reduce_min(), tf.reduce_max(), tf.reduce_mean(), tf.reduce_sum"
   ]
  },
  {
   "cell_type": "code",
   "execution_count": null,
   "metadata": {
    "ExecuteTime": {
     "start_time": "2023-10-13T03:07:15.710722932Z"
    }
   },
   "outputs": [],
   "source": [
    "tensor_mat = tf.constant(np.random.randint(low=5, high=200, size=72))\n",
    "tensor_mat"
   ]
  },
  {
   "cell_type": "code",
   "execution_count": null,
   "metadata": {
    "ExecuteTime": {
     "start_time": "2023-10-13T03:07:15.710882660Z"
    }
   },
   "outputs": [],
   "source": [
    "# min\n",
    "tf.reduce_min(tensor_mat)"
   ]
  },
  {
   "cell_type": "code",
   "execution_count": null,
   "metadata": {
    "ExecuteTime": {
     "start_time": "2023-10-13T03:07:15.711024067Z"
    }
   },
   "outputs": [],
   "source": [
    "# max\n",
    "tf.reduce_max(tensor_mat)"
   ]
  },
  {
   "cell_type": "code",
   "execution_count": null,
   "metadata": {
    "ExecuteTime": {
     "start_time": "2023-10-13T03:07:15.711178777Z"
    }
   },
   "outputs": [],
   "source": [
    "# mean\n",
    "tf.reduce_mean(tensor_mat)"
   ]
  },
  {
   "cell_type": "code",
   "execution_count": null,
   "metadata": {
    "ExecuteTime": {
     "start_time": "2023-10-13T03:07:15.711339703Z"
    }
   },
   "outputs": [],
   "source": [
    "# sum\n",
    "tf.reduce_sum(tensor_mat)"
   ]
  },
  {
   "cell_type": "code",
   "execution_count": null,
   "metadata": {
    "ExecuteTime": {
     "start_time": "2023-10-13T03:07:15.711546734Z"
    }
   },
   "outputs": [],
   "source": [
    "# standart devisasi\n",
    "mat = tf.reshape(tensor_mat, shape=(8,9))\n",
    "mat = tf.cast(mat, dtype=tf.float32)\n",
    "tf.math.reduce_std(mat)"
   ]
  },
  {
   "cell_type": "code",
   "execution_count": null,
   "metadata": {
    "ExecuteTime": {
     "start_time": "2023-10-13T03:07:15.729746583Z"
    }
   },
   "outputs": [],
   "source": [
    "# variance\n",
    "tf.math.reduce_variance(mat)"
   ]
  },
  {
   "cell_type": "markdown",
   "metadata": {},
   "source": [
    "## 7.7 Mengambil index max dan min"
   ]
  },
  {
   "cell_type": "code",
   "execution_count": 8,
   "metadata": {
    "ExecuteTime": {
     "end_time": "2023-10-13T04:03:28.628935495Z",
     "start_time": "2023-10-13T04:03:28.602745618Z"
    }
   },
   "outputs": [
    {
     "data": {
      "text/plain": "<tf.Tensor: shape=(2, 3, 3), dtype=float64, numpy=\narray([[[44.58499034, 94.71214466, 75.68347294],\n        [64.08328813, 25.57362172, 25.57152327],\n        [17.05327426, 87.35732468, 64.29700602]],\n\n       [[73.60231427, 13.790851  , 96.38215714],\n        [84.42250975, 30.47350263, 27.81877215],\n        [27.95619236, 38.46907514, 57.65380955]]])>"
     },
     "execution_count": 8,
     "metadata": {},
     "output_type": "execute_result"
    }
   ],
   "source": [
    "np.random.seed(42)\n",
    "np_mat = np.random.uniform(low=12, high=99, size=(2,3,3))\n",
    "mat = tf.constant(np_mat)\n",
    "mat"
   ]
  },
  {
   "cell_type": "code",
   "execution_count": 10,
   "metadata": {
    "ExecuteTime": {
     "end_time": "2023-10-13T04:07:07.332133652Z",
     "start_time": "2023-10-13T04:07:07.252638979Z"
    }
   },
   "outputs": [
    {
     "data": {
      "text/plain": "<tf.Tensor: shape=(3, 3), dtype=int64, numpy=\narray([[1, 0, 1],\n       [1, 1, 1],\n       [1, 0, 0]])>"
     },
     "execution_count": 10,
     "metadata": {},
     "output_type": "execute_result"
    }
   ],
   "source": [
    "# argmax\n",
    "index_max = tf.argmax(mat)\n",
    "index_max"
   ]
  },
  {
   "cell_type": "code",
   "execution_count": 11,
   "metadata": {
    "ExecuteTime": {
     "end_time": "2023-10-13T04:07:37.419561357Z",
     "start_time": "2023-10-13T04:07:37.283096643Z"
    }
   },
   "outputs": [
    {
     "data": {
      "text/plain": "<tf.Tensor: shape=(3, 3), dtype=int64, numpy=\narray([[0, 1, 0],\n       [0, 0, 0],\n       [0, 1, 1]])>"
     },
     "execution_count": 11,
     "metadata": {},
     "output_type": "execute_result"
    }
   ],
   "source": [
    "# argmin\n",
    "index_min = tf.argmin(mat)\n",
    "index_min"
   ]
  },
  {
   "cell_type": "markdown",
   "source": [
    "## 7.8 Squeezing tensor tf.squeeze()"
   ],
   "metadata": {
    "collapsed": false
   }
  },
  {
   "cell_type": "code",
   "execution_count": 3,
   "outputs": [
    {
     "data": {
      "text/plain": "<tf.Tensor: shape=(1, 1, 1, 3, 4), dtype=int64, numpy=\narray([[[[[18,  9, 32, 46],\n          [57, 36, 59, 46],\n          [79, 24, 78, 30]]]]])>"
     },
     "execution_count": 3,
     "metadata": {},
     "output_type": "execute_result"
    }
   ],
   "source": [
    "np_mat_s = np.random.randint(low=8, high=99, size=(1,1,1,3,4))\n",
    "t_w_singleD = tf.constant(np_mat_s)\n",
    "t_w_singleD"
   ],
   "metadata": {
    "collapsed": false,
    "ExecuteTime": {
     "end_time": "2023-10-13T04:25:01.783876917Z",
     "start_time": "2023-10-13T04:25:01.675770492Z"
    }
   }
  },
  {
   "cell_type": "code",
   "execution_count": 4,
   "outputs": [
    {
     "data": {
      "text/plain": "<tf.Tensor: shape=(3, 4), dtype=int64, numpy=\narray([[18,  9, 32, 46],\n       [57, 36, 59, 46],\n       [79, 24, 78, 30]])>"
     },
     "execution_count": 4,
     "metadata": {},
     "output_type": "execute_result"
    }
   ],
   "source": [
    "squeeze_mat = tf.squeeze(t_w_singleD)\n",
    "squeeze_mat"
   ],
   "metadata": {
    "collapsed": false,
    "ExecuteTime": {
     "end_time": "2023-10-13T04:25:19.654034724Z",
     "start_time": "2023-10-13T04:25:19.498932394Z"
    }
   }
  },
  {
   "cell_type": "markdown",
   "source": [
    "## 7.9 One Hot Encoding tf.one_hot()"
   ],
   "metadata": {
    "collapsed": false
   }
  },
  {
   "cell_type": "code",
   "execution_count": 33,
   "outputs": [
    {
     "data": {
      "text/plain": "[1, 2, 3]"
     },
     "execution_count": 33,
     "metadata": {},
     "output_type": "execute_result"
    }
   ],
   "source": [
    "label = [1,2,3]\n",
    "label"
   ],
   "metadata": {
    "collapsed": false,
    "ExecuteTime": {
     "end_time": "2023-10-13T05:00:05.602603065Z",
     "start_time": "2023-10-13T05:00:05.580363050Z"
    }
   }
  },
  {
   "cell_type": "code",
   "execution_count": 35,
   "outputs": [
    {
     "data": {
      "text/plain": "<tf.Tensor: shape=(3, 4), dtype=float32, numpy=\narray([[0., 1., 0., 0.],\n       [0., 0., 1., 0.],\n       [0., 0., 0., 1.]], dtype=float32)>"
     },
     "execution_count": 35,
     "metadata": {},
     "output_type": "execute_result"
    }
   ],
   "source": [
    "a = tf.one_hot(label, depth=4)\n",
    "a"
   ],
   "metadata": {
    "collapsed": false,
    "ExecuteTime": {
     "end_time": "2023-10-13T05:00:43.178986214Z",
     "start_time": "2023-10-13T05:00:43.136497120Z"
    }
   }
  },
  {
   "cell_type": "markdown",
   "source": [
    "## 7.9 Squaring, log, square root tf.square() tf.sqrt() tf.math.log()"
   ],
   "metadata": {
    "collapsed": false
   }
  },
  {
   "cell_type": "code",
   "execution_count": 38,
   "outputs": [
    {
     "data": {
      "text/plain": "array([[93, 92, 52],\n       [24, 62, 20],\n       [ 9, 82, 78],\n       [59, 92, 85]])"
     },
     "execution_count": 38,
     "metadata": {},
     "output_type": "execute_result"
    }
   ],
   "source": [
    "nrand = np.random.randint(low=4, high=99, size=(4,3))\n",
    "nrand"
   ],
   "metadata": {
    "collapsed": false,
    "ExecuteTime": {
     "end_time": "2023-10-13T06:54:22.332142970Z",
     "start_time": "2023-10-13T06:54:22.227642130Z"
    }
   }
  },
  {
   "cell_type": "code",
   "execution_count": 44,
   "outputs": [
    {
     "data": {
      "text/plain": "(<tf.Tensor: shape=(4, 3), dtype=int64, numpy=\n array([[8649, 8464, 2704],\n        [ 576, 3844,  400],\n        [  81, 6724, 6084],\n        [3481, 8464, 7225]])>,\n <tf.Tensor: shape=(4, 3), dtype=float32, numpy=\n array([[9.643651 , 9.591663 , 7.2111025],\n        [4.8989797, 7.8740077, 4.472136 ],\n        [3.       , 9.055386 , 8.83176  ],\n        [7.6811457, 9.591663 , 9.219544 ]], dtype=float32)>,\n <tf.Tensor: shape=(4, 3), dtype=float32, numpy=\n array([[4.5325994, 4.5217886, 3.9512436],\n        [3.1780539, 4.1271343, 2.9957323],\n        [2.1972246, 4.406719 , 4.356709 ],\n        [4.0775375, 4.5217886, 4.4426513]], dtype=float32)>)"
     },
     "execution_count": 44,
     "metadata": {},
     "output_type": "execute_result"
    }
   ],
   "source": [
    "tf.square(nrand), tf.sqrt(tf.cast(nrand, dtype=tf.float32)), tf.math.log(tf.cast(nrand, dtype=tf.float32))"
   ],
   "metadata": {
    "collapsed": false,
    "ExecuteTime": {
     "end_time": "2023-10-13T06:56:50.741329367Z",
     "start_time": "2023-10-13T06:56:50.714416892Z"
    }
   }
  },
  {
   "cell_type": "markdown",
   "source": [
    "# 8 Manipulasi tf.Variable"
   ],
   "metadata": {
    "collapsed": false
   }
  },
  {
   "cell_type": "markdown",
   "source": [
    "## 8.1.  tf.assign() tf.add_assign()"
   ],
   "metadata": {
    "collapsed": false
   }
  },
  {
   "cell_type": "code",
   "execution_count": 50,
   "outputs": [
    {
     "data": {
      "text/plain": "<tf.Variable 'UnreadVariable' shape=(3, 4) dtype=float64, numpy=\narray([[ 25.,  24.,   4.,   3.],\n       [ 14.,   6.,   4.,   7.],\n       [ 57., 356.,  49.,   4.]])>"
     },
     "execution_count": 50,
     "metadata": {},
     "output_type": "execute_result"
    }
   ],
   "source": [
    "n = np.zeros(shape=(3,4))\n",
    "tnsr = tf.Variable(n)\n",
    "\n",
    "# .assign ==> mengubah nilai\n",
    "a = tnsr.assign([\n",
    "    [23,22,2,1],\n",
    "    [12,4,2,5],\n",
    "    [55,354,47,2]\n",
    "])\n",
    "\n",
    "# assign_add ==> menambahkan nilai ke dalam tensor (dimesi harus sama)\n",
    "b = a.assign_add([\n",
    "    [2,2,2,2],\n",
    "    [2,2,2,2],\n",
    "    [2,2,2,2]\n",
    "])\n",
    "b"
   ],
   "metadata": {
    "collapsed": false,
    "ExecuteTime": {
     "end_time": "2023-10-13T07:30:08.013636138Z",
     "start_time": "2023-10-13T07:30:07.889786899Z"
    }
   }
  },
  {
   "cell_type": "markdown",
   "source": [
    "# Exercises"
   ],
   "metadata": {
    "collapsed": false
   }
  },
  {
   "cell_type": "markdown",
   "source": [
    "## 1. Create a vector, scalar, matrix and tensor with values of your choosing using tf.constant()"
   ],
   "metadata": {
    "collapsed": false
   }
  },
  {
   "cell_type": "code",
   "execution_count": 51,
   "outputs": [
    {
     "data": {
      "text/plain": "(<tf.Tensor: shape=(1,), dtype=int32, numpy=array([12], dtype=int32)>,\n <tf.Tensor: shape=(2,), dtype=int32, numpy=array([12, 12], dtype=int32)>,\n <tf.Tensor: shape=(3, 3), dtype=int64, numpy=\n array([[45, 90, 94],\n        [68, 80, 69],\n        [62, 65, 66]])>,\n <tf.Tensor: shape=(2, 5, 5), dtype=int64, numpy=\n array([[[ 0,  2,  4,  6,  8],\n         [10, 12, 14, 16, 18],\n         [20, 22, 24, 26, 28],\n         [30, 32, 34, 36, 38],\n         [40, 42, 44, 46, 48]],\n \n        [[50, 52, 54, 56, 58],\n         [60, 62, 64, 66, 68],\n         [70, 72, 74, 76, 78],\n         [80, 82, 84, 86, 88],\n         [90, 92, 94, 96, 98]]])>)"
     },
     "execution_count": 51,
     "metadata": {},
     "output_type": "execute_result"
    }
   ],
   "source": [
    "vector = tf.constant(\n",
    "    [12]\n",
    ")\n",
    "\n",
    "scalar = tf.constant(\n",
    "    [12,12]\n",
    ")\n",
    "\n",
    "matrix = tf.constant(\n",
    "    np.random.randint(23,99, size=(3,3))\n",
    ")\n",
    "\n",
    "tensor = tf.constant(\n",
    "    np.arange(0,100,2), shape=(2,5,5)\n",
    ")\n",
    "\n",
    "vector, scalar, matrix, tensor"
   ],
   "metadata": {
    "collapsed": false,
    "ExecuteTime": {
     "end_time": "2023-10-13T07:41:22.443368342Z",
     "start_time": "2023-10-13T07:41:22.307283900Z"
    }
   }
  },
  {
   "cell_type": "markdown",
   "source": [
    "## 2. Find the shape, rank and size of the tensors you created in 1"
   ],
   "metadata": {
    "collapsed": false
   }
  },
  {
   "cell_type": "code",
   "execution_count": 56,
   "outputs": [
    {
     "data": {
      "text/plain": "(TensorShape([2]), 2, <tf.Tensor: shape=(), dtype=int32, numpy=50>)"
     },
     "execution_count": 56,
     "metadata": {},
     "output_type": "execute_result"
    }
   ],
   "source": [
    "scalar.shape, matrix.ndim, tf.size(tensor)"
   ],
   "metadata": {
    "collapsed": false,
    "ExecuteTime": {
     "end_time": "2023-10-13T07:43:20.955594506Z",
     "start_time": "2023-10-13T07:43:20.869350621Z"
    }
   }
  },
  {
   "cell_type": "markdown",
   "source": [
    "## 3. Create two tensors containing random values between 0 and 1 with shape [5, 300]"
   ],
   "metadata": {
    "collapsed": false
   }
  },
  {
   "cell_type": "code",
   "execution_count": 58,
   "outputs": [
    {
     "data": {
      "text/plain": "(<tf.Tensor: shape=(5, 300), dtype=float32, numpy=\n array([[0.5184852 , 0.76776004, 0.19462967, ..., 0.02660501, 0.86674345,\n         0.20779896],\n        [0.4517063 , 0.23947763, 0.28048515, ..., 0.52728033, 0.14744663,\n         0.13690078],\n        [0.30554235, 0.07899129, 0.52359474, ..., 0.70501924, 0.18861568,\n         0.04344428],\n        [0.78475845, 0.16142976, 0.801242  , ..., 0.8473673 , 0.19242013,\n         0.18183768],\n        [0.96092653, 0.71340096, 0.824124  , ..., 0.9448885 , 0.63093495,\n         0.3247168 ]], dtype=float32)>,\n <tf.Tensor: shape=(5, 300), dtype=float32, numpy=\n array([[0.4517063 , 0.23947763, 0.28048515, ..., 0.52728033, 0.14744663,\n         0.13690078],\n        [0.78475845, 0.16142976, 0.801242  , ..., 0.8473673 , 0.19242013,\n         0.18183768],\n        [0.96092653, 0.71340096, 0.824124  , ..., 0.9448885 , 0.63093495,\n         0.3247168 ],\n        [0.30554235, 0.07899129, 0.52359474, ..., 0.70501924, 0.18861568,\n         0.04344428],\n        [0.5184852 , 0.76776004, 0.19462967, ..., 0.02660501, 0.86674345,\n         0.20779896]], dtype=float32)>)"
     },
     "execution_count": 58,
     "metadata": {},
     "output_type": "execute_result"
    }
   ],
   "source": [
    "tnsr1 = tf.random.uniform(minval=0, maxval=1, shape=(5,300))\n",
    "tnsr2 = tf.random.shuffle(tnsr1)\n",
    "tnsr1, tnsr2"
   ],
   "metadata": {
    "collapsed": false,
    "ExecuteTime": {
     "end_time": "2023-10-13T07:47:09.563147820Z",
     "start_time": "2023-10-13T07:47:09.533496612Z"
    }
   }
  },
  {
   "cell_type": "markdown",
   "source": [
    "## 4. Multiply the two tensors you created in 3 using matrix multiplication"
   ],
   "metadata": {
    "collapsed": false
   }
  },
  {
   "cell_type": "code",
   "execution_count": 60,
   "outputs": [
    {
     "data": {
      "text/plain": "<tf.Tensor: shape=(5, 300), dtype=float32, numpy=\narray([[0.23420303, 0.18386136, 0.05459073, ..., 0.0140283 , 0.12779841,\n        0.02844784],\n       [0.35448033, 0.03865882, 0.22473648, ..., 0.4468001 , 0.0283717 ,\n        0.02489372],\n       [0.29360375, 0.05635247, 0.431507  , ..., 0.6661646 , 0.11900423,\n        0.01410709],\n       [0.23977694, 0.01275155, 0.4195261 , ..., 0.59741026, 0.03629345,\n        0.00789981],\n       [0.49822617, 0.54772073, 0.16039898, ..., 0.02513877, 0.5468587 ,\n        0.06747581]], dtype=float32)>"
     },
     "execution_count": 60,
     "metadata": {},
     "output_type": "execute_result"
    }
   ],
   "source": [
    "tensor_c = tf.multiply(tnsr1, tnsr2)\n",
    "tensor_c"
   ],
   "metadata": {
    "collapsed": false,
    "ExecuteTime": {
     "end_time": "2023-10-13T07:50:37.234027998Z",
     "start_time": "2023-10-13T07:50:37.204605965Z"
    }
   }
  },
  {
   "cell_type": "markdown",
   "source": [
    "## 5. Multiply the two tensors you created in 3 using dot product"
   ],
   "metadata": {
    "collapsed": false
   }
  },
  {
   "cell_type": "code",
   "execution_count": 64,
   "outputs": [
    {
     "data": {
      "text/plain": "<tf.Tensor: shape=(5, 5), dtype=float32, numpy=\narray([[ 76.31357 ,  76.68758 ,  80.46172 ,  77.39366 , 105.083405],\n       [ 95.221436,  69.576195,  75.95989 ,  74.01396 ,  76.31357 ],\n       [ 74.01396 ,  72.00621 ,  75.46709 ,  98.23166 ,  77.39366 ],\n       [ 69.576195,  97.43059 ,  78.9886  ,  72.00621 ,  76.68758 ],\n       [ 75.95989 ,  78.9886  , 103.47169 ,  75.46709 ,  80.46172 ]],\n      dtype=float32)>"
     },
     "execution_count": 64,
     "metadata": {},
     "output_type": "execute_result"
    }
   ],
   "source": [
    "tensor_d = tf.tensordot(tnsr1, tf.transpose(tnsr2), axes=1)\n",
    "tensor_d"
   ],
   "metadata": {
    "collapsed": false,
    "ExecuteTime": {
     "end_time": "2023-10-13T07:53:03.161517366Z",
     "start_time": "2023-10-13T07:53:03.140130996Z"
    }
   }
  },
  {
   "cell_type": "markdown",
   "source": [
    "## 6. Create a tensor with random values between 0 and 1 with shape [224, 224, 3]"
   ],
   "metadata": {
    "collapsed": false
   }
  },
  {
   "cell_type": "code",
   "execution_count": 65,
   "outputs": [
    {
     "data": {
      "text/plain": "<tf.Tensor: shape=(224, 224, 3), dtype=float32, numpy=\narray([[[3.09707999e-01, 4.98467445e-01, 7.18839884e-01],\n        [5.82867026e-01, 4.06065464e-01, 2.06283569e-01],\n        [8.50550413e-01, 3.66299152e-01, 4.28361058e-01],\n        ...,\n        [7.59097934e-01, 3.81611109e-01, 6.61462665e-01],\n        [3.62899899e-01, 7.47732043e-01, 4.45638537e-01],\n        [9.46474910e-01, 2.40704298e-01, 7.97748566e-04]],\n\n       [[9.29587722e-01, 1.22186303e-01, 7.14314342e-01],\n        [5.55838227e-01, 6.10901713e-01, 1.21644616e-01],\n        [9.08449173e-01, 7.81529188e-01, 3.04618478e-01],\n        ...,\n        [3.58580589e-01, 2.59028196e-01, 5.34951687e-02],\n        [9.44876671e-03, 7.52988815e-01, 2.03812718e-01],\n        [8.34198236e-01, 6.32038474e-01, 6.19304538e-01]],\n\n       [[2.82387853e-01, 3.55593443e-01, 9.19523239e-02],\n        [9.33130026e-01, 4.01654124e-01, 9.49791193e-01],\n        [8.02042484e-02, 4.00134444e-01, 3.09573412e-01],\n        ...,\n        [9.06005621e-01, 3.52828979e-01, 8.64777446e-01],\n        [2.29484558e-01, 3.19080353e-02, 9.72762942e-01],\n        [3.54849100e-01, 8.74516368e-01, 4.69229341e-01]],\n\n       ...,\n\n       [[5.11304498e-01, 6.70079350e-01, 4.18463826e-01],\n        [2.49296427e-01, 2.87446976e-01, 2.21272707e-02],\n        [9.33880806e-02, 8.94228220e-02, 8.22019935e-01],\n        ...,\n        [9.14129972e-01, 8.62044334e-01, 3.90707254e-02],\n        [7.67628551e-01, 7.56875277e-01, 8.01835656e-01],\n        [6.82788730e-01, 3.20562840e-01, 3.26722383e-01]],\n\n       [[8.12048674e-01, 6.72401667e-01, 7.29873180e-01],\n        [1.29275441e-01, 2.60731101e-01, 3.17864776e-01],\n        [6.90710545e-03, 1.60366774e-01, 5.46167970e-01],\n        ...,\n        [7.95619488e-02, 3.79024863e-01, 1.03754044e-01],\n        [1.05019569e-01, 5.21020532e-01, 9.71070766e-01],\n        [8.60258460e-01, 3.35883737e-01, 5.78753710e-01]],\n\n       [[3.46729398e-01, 2.99736738e-01, 2.50806212e-01],\n        [6.98777795e-01, 6.81526065e-01, 1.56838775e-01],\n        [9.59870696e-01, 8.68050814e-01, 1.69709921e-02],\n        ...,\n        [5.90407372e-01, 2.46226788e-01, 4.28711176e-01],\n        [4.89304066e-01, 5.11072159e-01, 8.08811188e-03],\n        [6.22689605e-01, 5.06886840e-01, 6.98412299e-01]]], dtype=float32)>"
     },
     "execution_count": 65,
     "metadata": {},
     "output_type": "execute_result"
    }
   ],
   "source": [
    "tnsr3 = tf.random.uniform(minval=0, maxval=1, dtype=tf.float32, shape=(224,224,3))\n",
    "tnsr3"
   ],
   "metadata": {
    "collapsed": false,
    "ExecuteTime": {
     "end_time": "2023-10-13T07:55:06.213857476Z",
     "start_time": "2023-10-13T07:55:06.124290155Z"
    }
   }
  },
  {
   "cell_type": "markdown",
   "source": [
    "## 7. Find the min and max values of the tensor you created in 6"
   ],
   "metadata": {
    "collapsed": false
   }
  },
  {
   "cell_type": "code",
   "execution_count": 66,
   "outputs": [
    {
     "data": {
      "text/plain": "(<tf.Tensor: shape=(), dtype=float32, numpy=1.1086464e-05>,\n <tf.Tensor: shape=(), dtype=float32, numpy=0.9999951>)"
     },
     "execution_count": 66,
     "metadata": {},
     "output_type": "execute_result"
    }
   ],
   "source": [
    "tensor_min = tf.reduce_min(tnsr3)\n",
    "tensor_max = tf.reduce_max(tnsr3)\n",
    "\n",
    "tensor_min, tensor_max"
   ],
   "metadata": {
    "collapsed": false,
    "ExecuteTime": {
     "end_time": "2023-10-13T07:56:31.942829243Z",
     "start_time": "2023-10-13T07:56:31.834323773Z"
    }
   }
  },
  {
   "cell_type": "markdown",
   "source": [
    "## 8. Created a tensor with random values of shape [1, 224, 224, 3] then squeeze it to change the shape to [224, 224, 3]"
   ],
   "metadata": {
    "collapsed": false
   }
  },
  {
   "cell_type": "code",
   "execution_count": 68,
   "outputs": [
    {
     "data": {
      "text/plain": "<tf.Tensor: shape=(1, 224, 224, 3), dtype=float32, numpy=\narray([[[[ 7.27663636e-01, -5.60822606e-01,  1.85686302e+00],\n         [ 1.66013062e+00,  3.33431140e-02,  1.01633072e+00],\n         [-2.47482315e-01,  1.55798659e-01,  1.87620902e+00],\n         ...,\n         [ 8.33734274e-01, -8.62811953e-02, -4.75380391e-01],\n         [-1.24498355e+00,  4.66777712e-01,  7.09739387e-01],\n         [ 1.92770451e-01,  2.06973720e+00, -1.20759404e+00]],\n\n        [[-8.98571491e-01, -1.85575914e+00,  6.77245736e-01],\n         [-1.14836490e+00,  2.78509468e-01, -9.71903980e-01],\n         [ 2.20580086e-01, -2.49833986e-01,  3.07049125e-01],\n         ...,\n         [-7.43755162e-01,  2.46512160e-01,  8.15746468e-03],\n         [ 1.39643097e+00, -2.77630782e+00, -1.05003703e+00],\n         [ 1.22110355e+00,  8.19301724e-01,  1.26787686e+00]],\n\n        [[ 3.71297747e-01,  7.52032995e-01, -1.03006676e-01],\n         [ 2.39627451e-01, -1.88935852e+00, -1.39815316e-01],\n         [-1.04455702e-01,  1.30994713e+00,  1.26190829e+00],\n         ...,\n         [-2.26783678e-01,  8.43338370e-01,  1.03627264e+00],\n         [ 6.30111247e-02, -1.43019032e+00,  5.94026983e-01],\n         [ 1.84973025e+00, -9.68904257e-01,  5.91056287e-01]],\n\n        ...,\n\n        [[-1.04305720e+00,  1.23352133e-01,  7.89739668e-01],\n         [ 2.25353312e+00, -3.75731766e-01,  6.47197813e-02],\n         [-2.34397367e-01, -1.65846661e-01,  8.54023516e-01],\n         ...,\n         [ 1.10139921e-01, -2.14453650e+00, -2.53692061e-01],\n         [-2.13367790e-01, -5.33420205e-01,  1.41174579e+00],\n         [ 6.40481412e-01, -2.21386209e-01,  1.87165463e+00]],\n\n        [[-1.27496946e+00,  2.46564016e-01, -1.83501005e+00],\n         [ 2.42608741e-01,  1.45237124e+00,  1.14988405e-02],\n         [-9.30786282e-02, -2.30667281e+00, -4.10866021e-04],\n         ...,\n         [-1.24981427e+00,  9.54725027e-01, -1.21171176e+00],\n         [ 1.81439126e+00, -7.09298700e-02, -8.28827024e-01],\n         [ 1.15911853e+00, -8.45957339e-01,  3.52856308e-01]],\n\n        [[-2.23218147e-02,  1.29932296e+00, -7.02080354e-02],\n         [-7.15619504e-01, -5.75088263e-01,  2.02630329e+00],\n         [-4.97788697e-01,  1.62621558e+00,  1.53526103e+00],\n         ...,\n         [ 1.60834920e+00,  2.95698881e-01, -4.05300289e-01],\n         [ 1.41584158e+00,  2.51014858e-01, -2.47368842e-01],\n         [ 5.68276584e-01, -7.98941851e-01,  1.85290086e+00]]]],\n      dtype=float32)>"
     },
     "execution_count": 68,
     "metadata": {},
     "output_type": "execute_result"
    }
   ],
   "source": [
    "tnsr4 = tf.random.normal(shape=(1,224,224,3))\n",
    "tnsr4"
   ],
   "metadata": {
    "collapsed": false,
    "ExecuteTime": {
     "end_time": "2023-10-13T07:58:00.830613779Z",
     "start_time": "2023-10-13T07:58:00.807650524Z"
    }
   }
  },
  {
   "cell_type": "code",
   "execution_count": 74,
   "outputs": [
    {
     "data": {
      "text/plain": "TensorShape([224, 224, 3])"
     },
     "execution_count": 74,
     "metadata": {},
     "output_type": "execute_result"
    }
   ],
   "source": [
    "squeezed = tf.squeeze(tnsr4, axis=0)\n",
    "squeezed.shape"
   ],
   "metadata": {
    "collapsed": false,
    "ExecuteTime": {
     "end_time": "2023-10-13T07:59:39.719797721Z",
     "start_time": "2023-10-13T07:59:39.666447181Z"
    }
   }
  },
  {
   "cell_type": "markdown",
   "source": [
    "## 9. Create a tensor with shape [10] using your own choice of values, then find the index which has the maximum value"
   ],
   "metadata": {
    "collapsed": false
   }
  },
  {
   "cell_type": "code",
   "execution_count": 87,
   "outputs": [
    {
     "data": {
      "text/plain": "<tf.Tensor: shape=(10,), dtype=float32, numpy=\narray([-0.13019317, -0.5366344 , -1.1019168 ,  1.7443868 ,  0.7857995 ,\n        0.46997228,  0.23263977, -0.2594993 , -0.946326  , -1.08339   ],\n      dtype=float32)>"
     },
     "execution_count": 87,
     "metadata": {},
     "output_type": "execute_result"
    }
   ],
   "source": [
    "tnsr5 = tf.random.normal(shape=(10,))\n",
    "tnsr5"
   ],
   "metadata": {
    "collapsed": false,
    "ExecuteTime": {
     "end_time": "2023-10-13T08:08:48.779740036Z",
     "start_time": "2023-10-13T08:08:48.695520621Z"
    }
   }
  },
  {
   "cell_type": "code",
   "execution_count": 88,
   "outputs": [
    {
     "data": {
      "text/plain": "<tf.Tensor: shape=(), dtype=int64, numpy=3>"
     },
     "execution_count": 88,
     "metadata": {},
     "output_type": "execute_result"
    }
   ],
   "source": [
    "ind_max = tf.argmax(tnsr5)\n",
    "ind_max"
   ],
   "metadata": {
    "collapsed": false,
    "ExecuteTime": {
     "end_time": "2023-10-13T08:08:57.707846579Z",
     "start_time": "2023-10-13T08:08:57.630867671Z"
    }
   }
  },
  {
   "cell_type": "markdown",
   "source": [
    "## 10. One-hot encode the tensor you created in 9"
   ],
   "metadata": {
    "collapsed": false
   }
  },
  {
   "cell_type": "code",
   "execution_count": 91,
   "outputs": [
    {
     "data": {
      "text/plain": "<tf.Tensor: shape=(10, 10), dtype=float32, numpy=\narray([[1., 0., 0., 0., 0., 0., 0., 0., 0., 0.],\n       [1., 0., 0., 0., 0., 0., 0., 0., 0., 0.],\n       [0., 0., 0., 0., 0., 0., 0., 0., 0., 0.],\n       [0., 1., 0., 0., 0., 0., 0., 0., 0., 0.],\n       [1., 0., 0., 0., 0., 0., 0., 0., 0., 0.],\n       [1., 0., 0., 0., 0., 0., 0., 0., 0., 0.],\n       [1., 0., 0., 0., 0., 0., 0., 0., 0., 0.],\n       [1., 0., 0., 0., 0., 0., 0., 0., 0., 0.],\n       [1., 0., 0., 0., 0., 0., 0., 0., 0., 0.],\n       [0., 0., 0., 0., 0., 0., 0., 0., 0., 0.]], dtype=float32)>"
     },
     "execution_count": 91,
     "metadata": {},
     "output_type": "execute_result"
    }
   ],
   "source": [
    "oh_tensor = tf.one_hot(tf.cast(tnsr5, dtype=tf.int32), depth=10)\n",
    "oh_tensor"
   ],
   "metadata": {
    "collapsed": false,
    "ExecuteTime": {
     "end_time": "2023-10-13T08:10:35.721243871Z",
     "start_time": "2023-10-13T08:10:35.680359486Z"
    }
   }
  },
  {
   "cell_type": "code",
   "execution_count": null,
   "outputs": [],
   "source": [],
   "metadata": {
    "collapsed": false
   }
  }
 ],
 "metadata": {
  "kernelspec": {
   "display_name": "env",
   "language": "python",
   "name": "python3"
  },
  "language_info": {
   "codemirror_mode": {
    "name": "ipython",
    "version": 3
   },
   "file_extension": ".py",
   "mimetype": "text/x-python",
   "name": "python",
   "nbconvert_exporter": "python",
   "pygments_lexer": "ipython3",
   "version": "3.10.12"
  },
  "orig_nbformat": 4
 },
 "nbformat": 4,
 "nbformat_minor": 2
}
